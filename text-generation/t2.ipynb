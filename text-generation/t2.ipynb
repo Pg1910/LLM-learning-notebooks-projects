{
 "cells": [
  {
   "cell_type": "markdown",
   "id": "58f9314f",
   "metadata": {},
   "source": [
    "< building a chatbot uaing the cohere's chat endpopint .A simple chatbot that can respond to user messages ans maintain the context of the conversations>"
   ]
  },
  {
   "cell_type": "markdown",
   "id": "734abf2d",
   "metadata": {},
   "source": [
    "# step 1: calling the chat endpont "
   ]
  },
  {
   "cell_type": "code",
   "execution_count": null,
   "id": "24acb25d",
   "metadata": {},
   "outputs": [],
   "source": [
    "import cohere \n",
    "import os\n",
    "# Load API key from environment variable\n",
    "api_key = os.getenv('COHERE_API_KEY', 'your-api-key-here')\n",
    "co = cohere.ClientV2(api_key)"
   ]
  },
  {
   "cell_type": "code",
   "execution_count": 5,
   "id": "34e1120f",
   "metadata": {},
   "outputs": [
    {
     "name": "stdout",
     "output_type": "stream",
     "text": [
      "Absolutely! Here’s a warm and professional introduction message you can use to introduce yourself to your new teammates at Colt:\n",
      "\n",
      "---\n",
      "\n",
      "**Subject:** Excited to Join the Colt Team!  \n",
      "\n",
      "Hi Team,  \n",
      "\n",
      "My name is [Your Name], and I’m thrilled to officially join Colt as of today! I’m stepping into the role of [Your Role], and I’m really looking forward to contributing to the amazing work you’re all doing here.  \n",
      "\n",
      "A little about me: I’ve spent [X years] working in [Your Industry/Field], with a focus on [Your Key Skills or Expertise]. Outside of work, I enjoy [Hobbies or Interests], and I’m always up for a good [Coffee/Book/Podcast] recommendation if you have any to share!  \n",
      "\n",
      "I’m excited to get to know each of you, learn from your experiences, and collaborate on driving Colt’s mission forward. Please don’t hesitate to reach out if you’d like to chat or if there’s anything I can do to support you.  \n",
      "\n",
      "Looking forward to an incredible journey together!  \n",
      "\n",
      "Best regards,  \n",
      "[Your Full Name]  \n",
      "[Your Role]  \n",
      "[Your Contact Info, if applicable]  \n",
      "\n",
      "---\n",
      "\n",
      "Feel free to customize it further to match your personality and the culture of the startup! Good luck on your first day! 🚀\n"
     ]
    }
   ],
   "source": [
    "# add the user message \n",
    "message = \"I m joining a new startup called colt today. could you help me write an introduction meesage for my teammates\"\n",
    "#generate the repsonse \n",
    "response = co.chat(model = \"command-a-03-2025\",\n",
    "                   messages=[{'role':'user','content':message}])\n",
    "print(response.message.content[0].text)"
   ]
  },
  {
   "cell_type": "markdown",
   "id": "5dd08ef0",
   "metadata": {},
   "source": [
    "# step 2 :creating a custom system message"
   ]
  },
  {
   "cell_type": "code",
   "execution_count": 8,
   "id": "d75ec1c9",
   "metadata": {},
   "outputs": [
    {
     "name": "stdout",
     "output_type": "stream",
     "text": [
      "**Introduction Message for Your Teammates at Colt:**\n",
      "\n",
      "Hello, dear team, both near and far,  \n",
      "I’m [Your Name], ready to raise the bar.  \n",
      "Joining Colt today, with spirit bright,  \n",
      "Eager to contribute, with all my might.  \n",
      "\n",
      "A fresh face here, but no stranger to drive,  \n",
      "Ready to learn, collaborate, and thrive.  \n",
      "Together we’ll build, innovate, and grow,  \n",
      "Turning bold ideas into a vibrant show.  \n",
      "\n",
      "Let’s connect, create, and make our mark,  \n",
      "As one united team, we’ll leave our spark.  \n",
      "Excited to meet you, to lend a hand,  \n",
      "Together at Colt, we’ll stand and stand.  \n",
      "\n",
      "Here’s to new beginnings, to success untold,  \n",
      "With Colt as our compass, we’ll reach for the gold.  \n",
      "Cheers to the journey, let’s make it grand,  \n",
      "Together we’ll conquer, hand in hand!  \n",
      "\n",
      "Looking forward to meeting you all,  \n",
      "[Your Name]\n"
     ]
    }
   ],
   "source": [
    "message = \"I m joining a new startup called colt today. could you help me write an introduction meesage for my teammates\"\n",
    "# create a custom system message\n",
    "system_message = \"\"\"## task and context you are an assist new employees pf colt with their first week.\n",
    "## style guide \n",
    "# try to speak in rhymes as much as possible .Be professional.\"\"\"\n",
    "\n",
    "# add the messages \n",
    "messages = [{'role':'system','content':system_message},\n",
    "            {'role':'user','content':message}]\n",
    "# generate the repsonse \n",
    "response = co.chat(model = \"command-a-03-2025\",messages = messages)\n",
    "print(response.message.content[0].text)\n"
   ]
  },
  {
   "cell_type": "markdown",
   "id": "fd1ec304",
   "metadata": {},
   "source": [
    "# step 3: streaming the response\n",
    "####\n",
    "The Chat endpoint also provides streaming support. In a streamed response, the endpoint would return a response object for each token as it is being generated. This means you can display the text incrementally without having to wait for the full completion.\n",
    "\n",
    "To activate it, use co.chat_stream() instead of co.chat().\n",
    "\n",
    "In streaming mode, the endpoint will generate a series of objects. To get the actual text contents, we take objects whose event_type is text-generation."
   ]
  },
  {
   "cell_type": "code",
   "execution_count": 9,
   "id": "33525299",
   "metadata": {},
   "outputs": [
    {
     "name": "stdout",
     "output_type": "stream",
     "text": [
      "Absolutely! Here’s a warm and professional introduction message you can use to introduce yourself to your new teammates at Co1t:\n",
      "\n",
      "---\n",
      "\n",
      "**Subject:** Excited to Join the Co1t Team!  \n",
      "\n",
      "Hi everyone,  \n",
      "\n",
      "My name is [Your Name], and I’m thrilled to officially join Co1t as [Your Role] starting today! I’ve been looking forward to this opportunity and can’t wait to contribute to the incredible work this team is doing.  \n",
      "\n",
      "A little about me: I’m passionate about [mention a relevant skill, industry, or interest], and I’ve spent the past [X years] working in [brief background, e.g., \"software development,\" \"marketing,\" \"product management,\" etc.]. Outside of work, I enjoy [a fun fact or hobby, e.g., \"hiking,\" \"reading sci-fi novels,\" \"trying new recipes,\" etc.].  \n",
      "\n",
      "I’m excited to get to know each of you, learn from your experiences, and collaborate on driving Co1t’s mission forward. Please feel free to reach out if you’d like to chat or grab a virtual coffee—I’d love to connect!  \n",
      "\n",
      "Looking forward to an amazing journey together. Let’s make it happen!  \n",
      "\n",
      "Best regards,  \n",
      "[Your Name]  \n",
      "[Your Role]  \n",
      "Co1t  \n",
      "\n",
      "---\n",
      "\n",
      "Feel free to customize it further to match your personality and the culture of Co1t. Good luck on your first day! 🚀"
     ]
    }
   ],
   "source": [
    "# Add the user message\n",
    "message = \"I'm joining a new startup called Co1t today. Could you help me write an introduction message for my teammates.\"\n",
    "\n",
    "# Generate the response by streaming it\n",
    "response = co.chat_stream(model=\"command-a-03-2025\",\n",
    "                          messages=[{'role':'user', 'content': message}])\n",
    "\n",
    "for event in response:\n",
    "    if event.type == \"content-delta\":\n",
    "        print(event.delta.message.content.text, end=\"\")"
   ]
  },
  {
   "cell_type": "markdown",
   "id": "221257ef",
   "metadata": {},
   "source": [
    "# step 4 : build the conversation memory \n",
    "###\n",
    "a the core of a conversation is a multi-turn dialog between the user and the chatbot . this requires the chatbot to have the state (or'memory')of all the previous turns to maintain the state of the conversation.\n",
    "lets start with the first turn in the conversation.here we are also adding a custom system message for generating concise repsonse, just to keep the outputs brief for this tutorial"
   ]
  },
  {
   "cell_type": "code",
   "execution_count": 16,
   "id": "feb89952",
   "metadata": {},
   "outputs": [
    {
     "name": "stdout",
     "output_type": "stream",
     "text": [
      "Hi everyone! I'm thrilled to join the Co1t team and contribute to our shared mission. I'm excited to get to know you all, learn from your experiences, and collaborate on innovative solutions. Looking forward to an amazing journey together!\n"
     ]
    }
   ],
   "source": [
    "# Add the user message\n",
    "message = \"I'm joining a new startup called Co1t today. Could you help me write an introduction message for my teammates.\"\n",
    "\n",
    "# Create a custom system message\n",
    "system_message=\"\"\"## Task and Context\n",
    "Generate large responses, with maximum five-sentence.\"\"\"\n",
    "\n",
    "# Add the messages\n",
    "messages = [{'role': 'system', 'content': system_message},\n",
    "            {'role': 'user', 'content': message}]\n",
    "\n",
    "# Generate the response\n",
    "response = co.chat(model = \"command-a-03-2025\",\n",
    "                   messages = messages)\n",
    "print(response.message.content[0].text)"
   ]
  },
  {
   "cell_type": "code",
   "execution_count": 17,
   "id": "0a261fe6",
   "metadata": {},
   "outputs": [
    {
     "name": "stdout",
     "output_type": "stream",
     "text": [
      "Hey team! I'm super pumped to be joining the Co1t family today – it's been a dream to work with such a talented and passionate group. Can't wait to dive in, meet you all, and see what kind of magic we can create together. Let's crush it!\n"
     ]
    }
   ],
   "source": [
    "# append the previosu response\n",
    "messages.append({'role':'assistant','content':response.message.content})\n",
    "# add the user message\n",
    "message = \"make it more upbeat and conversational\"\n",
    "# append the user message\n",
    "messages.append({'role':'user','content':message})\n",
    "# generate the response with the current chat history as the context \n",
    "response = co.chat(model = \"command-a-03-2025\",\n",
    "                   messages = messages)\n",
    "print(response.message.content[0].text)\n"
   ]
  },
  {
   "cell_type": "code",
   "execution_count": 18,
   "id": "9624b285",
   "metadata": {},
   "outputs": [
    {
     "name": "stdout",
     "output_type": "stream",
     "text": [
      "Hi [Manager's Name]! Just wanted to say I'm stoked to officially be part of the Co1t team today. I'm eager to learn, contribute, and grow under your guidance. Looking forward to an awesome journey ahead!\n"
     ]
    }
   ],
   "source": [
    "# Append the previous response\n",
    "messages.append({'role': 'assistant', 'content': response.message.content})\n",
    "\n",
    "# Add the user message\n",
    "message = \"Thanks. Could you create another one for my DM to my manager.\"\n",
    "\n",
    "# Append the user message\n",
    "messages.append({'role': 'user', 'content': message})\n",
    "\n",
    "# Generate the response with the current chat history as the context\n",
    "response = co.chat(model=\"command-a-03-2025\",\n",
    "                   messages=messages)\n",
    "\n",
    "print(response.message.content[0].text)"
   ]
  },
  {
   "cell_type": "code",
   "execution_count": 19,
   "id": "292e0ffb",
   "metadata": {},
   "outputs": [
    {
     "name": "stdout",
     "output_type": "stream",
     "text": [
      "{'role': 'system', 'content': '## Task and Context\\nGenerate large responses, with maximum five-sentence.'} \n",
      "\n",
      "{'role': 'user', 'content': \"I'm joining a new startup called Co1t today. Could you help me write an introduction message for my teammates.\"} \n",
      "\n",
      "{'role': 'assistant', 'content': [TextAssistantMessageResponseContentItem(type='text', text=\"Hi everyone! I'm thrilled to join the Co1t team and contribute to our shared mission. I'm excited to get to know you all, learn from your experiences, and collaborate on innovative solutions. Looking forward to an amazing journey together!\")]} \n",
      "\n",
      "{'role': 'user', 'content': 'make it more upbeat and conversational'} \n",
      "\n",
      "{'role': 'assistant', 'content': [TextAssistantMessageResponseContentItem(type='text', text=\"Hey team! I'm super pumped to be joining the Co1t family today – it's been a dream to work with such a talented and passionate group. Can't wait to dive in, meet you all, and see what kind of magic we can create together. Let's crush it!\")]} \n",
      "\n",
      "{'role': 'user', 'content': 'Thanks. Could you create another one for my DM to my manager.'} \n",
      "\n",
      "{'role': 'assistant', 'content': [TextAssistantMessageResponseContentItem(type='text', text=\"Hi [Manager's Name]! Just wanted to say I'm stoked to officially be part of the Co1t team today. I'm eager to learn, contribute, and grow under your guidance. Looking forward to an awesome journey ahead!\")]} \n",
      "\n"
     ]
    }
   ],
   "source": [
    "# append the previous repsonse \n",
    "messages.append({'role':'assistant','content':response.message.content})\n",
    "# view the chat history\n",
    "for message in messages:\n",
    "    print(message,\"\\n\")"
   ]
  }
 ],
 "metadata": {
  "kernelspec": {
   "display_name": "Python 3",
   "language": "python",
   "name": "python3"
  },
  "language_info": {
   "codemirror_mode": {
    "name": "ipython",
    "version": 3
   },
   "file_extension": ".py",
   "mimetype": "text/x-python",
   "name": "python",
   "nbconvert_exporter": "python",
   "pygments_lexer": "ipython3",
   "version": "3.13.7"
  }
 },
 "nbformat": 4,
 "nbformat_minor": 5
}
