{
 "cells": [
  {
   "cell_type": "code",
   "execution_count": null,
   "id": "ff9936e0",
   "metadata": {},
   "outputs": [],
   "source": [
    "import cohere\n",
    "import os\n",
    "# Load API key from environment variable\n",
    "api_key = os.getenv('COHERE_API_KEY', 'your-api-key-here')\n",
    "co = cohere.ClientV2(api_key)\n"
   ]
  },
  {
   "cell_type": "code",
   "execution_count": 2,
   "id": "c22f1ae1",
   "metadata": {},
   "outputs": [
    {
     "name": "stdout",
     "output_type": "stream",
     "text": [
      "Hello! How can I assist you today?\n"
     ]
    }
   ],
   "source": [
    "# add the user message \n",
    "message = \"Hello.\"\n",
    "#generate the response\n",
    "response = co.chat(model=\"command-a-03-2025\",\n",
    "                   messages = [{'role':'user','content':message}])\n",
    "print(response.message.content[0].text)"
   ]
  },
  {
   "cell_type": "markdown",
   "id": "3ebe3bbd",
   "metadata": {},
   "source": [
    "Often, you’ll need to control the level of randomness of the output. You can control this using a few parameters.\n",
    "\n",
    "The most commonly used parameter is temperature, which is a number used to tune the degree of randomness. You can enter values between 0.0 to 1.0.\n",
    "\n",
    "A lower temperature gives more predictable outputs, and a higher temperature gives more \"creative\" outputs.\n",
    "\n",
    "Here's an example of setting temperature to 0."
   ]
  },
  {
   "cell_type": "code",
   "execution_count": 5,
   "id": "ba7bea78",
   "metadata": {},
   "outputs": [
    {
     "name": "stdout",
     "output_type": "stream",
     "text": [
      "1:\"Revolution Enthusiast\"\n",
      "\n",
      "2:**\"Revolutionary Learner\"**  \n",
      "\n",
      "This captures your passion for the Industrial Revolution and your curiosity about its impact on today's world.\n",
      "\n",
      "3:\"Industrial Enthusiast.\"\n",
      "\n"
     ]
    }
   ],
   "source": [
    "message = \"I like learning about the industrial revolution and how it shapes the modern world. How can I introduce myself in two words.\"\n",
    "#generates the repsonse multiple times by specifying a low temperature value\n",
    "for idx in range(3):\n",
    "    response = co.chat(model = \"command-a-03-2025\",\n",
    "                       messages = [{'role':'user','content':message}],\n",
    "                       temperature=1)\n",
    "    print(f\"{idx+1}:{response.message.content[0].text}\\n\")\n",
    "    "
   ]
  },
  {
   "cell_type": "code",
   "execution_count": null,
   "id": "ecc1e7fe",
   "metadata": {},
   "outputs": [],
   "source": []
  },
  {
   "cell_type": "code",
   "execution_count": null,
   "id": "56804a51",
   "metadata": {},
   "outputs": [],
   "source": []
  },
  {
   "cell_type": "code",
   "execution_count": null,
   "id": "9b3a01da",
   "metadata": {},
   "outputs": [],
   "source": []
  },
  {
   "cell_type": "code",
   "execution_count": null,
   "id": "7e5583ad",
   "metadata": {},
   "outputs": [],
   "source": []
  },
  {
   "cell_type": "code",
   "execution_count": null,
   "id": "34115679",
   "metadata": {},
   "outputs": [],
   "source": []
  },
  {
   "cell_type": "code",
   "execution_count": null,
   "id": "7902c405",
   "metadata": {},
   "outputs": [],
   "source": []
  },
  {
   "cell_type": "code",
   "execution_count": null,
   "id": "959968e9",
   "metadata": {},
   "outputs": [],
   "source": []
  }
 ],
 "metadata": {
  "kernelspec": {
   "display_name": "Python 3",
   "language": "python",
   "name": "python3"
  },
  "language_info": {
   "codemirror_mode": {
    "name": "ipython",
    "version": 3
   },
   "file_extension": ".py",
   "mimetype": "text/x-python",
   "name": "python",
   "nbconvert_exporter": "python",
   "pygments_lexer": "ipython3",
   "version": "3.13.7"
  }
 },
 "nbformat": 4,
 "nbformat_minor": 5
}
